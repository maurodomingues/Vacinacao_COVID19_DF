{
 "cells": [
  {
   "cell_type": "code",
   "execution_count": 69,
   "metadata": {},
   "outputs": [],
   "source": [
    "import pandas as pd\n",
    "import numpy as np\n",
    "import matplotlib.pyplot as plt\n",
    "import seaborn as sns"
   ]
  },
  {
   "cell_type": "markdown",
   "metadata": {},
   "source": [
    "## Arquivo com as doses de vacina fornecidas pelo DF à população - Total de 6.730.055 doses"
   ]
  },
  {
   "cell_type": "code",
   "execution_count": 119,
   "metadata": {},
   "outputs": [
    {
     "data": {
      "text/html": [
       "<div>\n",
       "<style scoped>\n",
       "    .dataframe tbody tr th:only-of-type {\n",
       "        vertical-align: middle;\n",
       "    }\n",
       "\n",
       "    .dataframe tbody tr th {\n",
       "        vertical-align: top;\n",
       "    }\n",
       "\n",
       "    .dataframe thead th {\n",
       "        text-align: right;\n",
       "    }\n",
       "</style>\n",
       "<table border=\"1\" class=\"dataframe\">\n",
       "  <thead>\n",
       "    <tr style=\"text-align: right;\">\n",
       "      <th></th>\n",
       "      <th>document_id</th>\n",
       "      <th>paciente_id</th>\n",
       "      <th>paciente_idade</th>\n",
       "      <th>paciente_dataNascimento</th>\n",
       "      <th>paciente_enumSexoBiologico</th>\n",
       "      <th>paciente_racaCor_valor</th>\n",
       "      <th>paciente_endereco_nmMunicipio</th>\n",
       "      <th>paciente_endereco_uf</th>\n",
       "      <th>estabelecimento_razaoSocial</th>\n",
       "      <th>estalecimento_noFantasia</th>\n",
       "      <th>estabelecimento_municipio_nome</th>\n",
       "      <th>estabelecimento_uf</th>\n",
       "      <th>vacina_grupoAtendimento_nome</th>\n",
       "      <th>vacina_categoria_nome</th>\n",
       "      <th>vacina_lote</th>\n",
       "      <th>vacina_fabricante_nome</th>\n",
       "      <th>vacina_dataAplicacao</th>\n",
       "      <th>vacina_descricao_dose</th>\n",
       "      <th>vacina_codigo</th>\n",
       "      <th>vacina_nome</th>\n",
       "    </tr>\n",
       "  </thead>\n",
       "  <tbody>\n",
       "    <tr>\n",
       "      <th>0</th>\n",
       "      <td>99c8a0bb-07d0-4b85-a7ac-92acc7b75b7f-i0b0</td>\n",
       "      <td>d6cd3e4813ab76a63d15c2fa883e7af74f22aef90bef14...</td>\n",
       "      <td>34</td>\n",
       "      <td>1986-10-06</td>\n",
       "      <td>M</td>\n",
       "      <td>SEM INFORMACAO</td>\n",
       "      <td>BRASILIA</td>\n",
       "      <td>DF</td>\n",
       "      <td>UNIDADE BASICA DE SAUDE 5 PARANOA</td>\n",
       "      <td>UBS 5 QUEBRADA DOS NERES</td>\n",
       "      <td>BRASILIA</td>\n",
       "      <td>DF</td>\n",
       "      <td>Outros Grupos</td>\n",
       "      <td>Outros</td>\n",
       "      <td>213VCD040W</td>\n",
       "      <td>ASTRAZENECA/FIOCRUZ</td>\n",
       "      <td>2021-05-04</td>\n",
       "      <td>1ª Dose</td>\n",
       "      <td>85</td>\n",
       "      <td>COVID-19 ASTRAZENECA/FIOCRUZ - COVISHIELD</td>\n",
       "    </tr>\n",
       "    <tr>\n",
       "      <th>1</th>\n",
       "      <td>aec86458-91a8-4425-9e9b-604cfd5bc2ad-i0b0</td>\n",
       "      <td>cb0a9a99d9a5e181b420538d8275d2d79decb5d669050e...</td>\n",
       "      <td>9</td>\n",
       "      <td>2013-01-09</td>\n",
       "      <td>F</td>\n",
       "      <td>PARDA</td>\n",
       "      <td>BRASILIA</td>\n",
       "      <td>DF</td>\n",
       "      <td>UNIDADE BASICA DE SAUDE N 5 PLANALTINA</td>\n",
       "      <td>UBS 5 PLANALTINA</td>\n",
       "      <td>BRASILIA</td>\n",
       "      <td>DF</td>\n",
       "      <td>Pessoas de 5 a 11 anos</td>\n",
       "      <td>NaN</td>\n",
       "      <td>B202106076</td>\n",
       "      <td>SINOVAC/BUTANTAN</td>\n",
       "      <td>2022-03-14</td>\n",
       "      <td>2ª Dose</td>\n",
       "      <td>86</td>\n",
       "      <td>COVID-19 SINOVAC/BUTANTAN - CORONAVAC</td>\n",
       "    </tr>\n",
       "    <tr>\n",
       "      <th>2</th>\n",
       "      <td>99d64e63-0704-43b6-beb3-e0a5f0d4f561-i0b0</td>\n",
       "      <td>e9051eb19563c03b7e939facb43fe09a78989a6bd45325...</td>\n",
       "      <td>63</td>\n",
       "      <td>1958-09-25</td>\n",
       "      <td>F</td>\n",
       "      <td>PARDA</td>\n",
       "      <td>BRASILIA</td>\n",
       "      <td>DF</td>\n",
       "      <td>UNIDADE BASICA DE SAUDE N 5 DA CEILANDIA</td>\n",
       "      <td>UBS 5 CEILANDIA</td>\n",
       "      <td>BRASILIA</td>\n",
       "      <td>DF</td>\n",
       "      <td>Profissionais e Auxiliares de limpeza</td>\n",
       "      <td>Trabalhadores de Saúde</td>\n",
       "      <td>FG3528</td>\n",
       "      <td>PFIZER</td>\n",
       "      <td>2021-10-13</td>\n",
       "      <td>Reforço</td>\n",
       "      <td>87</td>\n",
       "      <td>COVID-19 PFIZER - COMIRNATY</td>\n",
       "    </tr>\n",
       "    <tr>\n",
       "      <th>3</th>\n",
       "      <td>aed1e2e4-c35b-4c11-938c-72c15b8a9535-i0b0</td>\n",
       "      <td>1cf8c94eb76e0e4017c12947d314c04ad068b149d73b3e...</td>\n",
       "      <td>62</td>\n",
       "      <td>1959-12-15</td>\n",
       "      <td>F</td>\n",
       "      <td>AMARELA</td>\n",
       "      <td>BRASILIA</td>\n",
       "      <td>DF</td>\n",
       "      <td>UNIDADE BASICA DE SAUDE N 1 CRUZEIRO</td>\n",
       "      <td>UBS 1 CRUZEIRO</td>\n",
       "      <td>BRASILIA</td>\n",
       "      <td>DF</td>\n",
       "      <td>Pessoas de 18 a 64 anos</td>\n",
       "      <td>Faixa Etária</td>\n",
       "      <td>FP7082</td>\n",
       "      <td>PFIZER</td>\n",
       "      <td>2022-06-15</td>\n",
       "      <td>Dose Adicional</td>\n",
       "      <td>87</td>\n",
       "      <td>COVID-19 PFIZER - COMIRNATY</td>\n",
       "    </tr>\n",
       "    <tr>\n",
       "      <th>4</th>\n",
       "      <td>aed76799-f9b8-4344-b989-814d94a07484-i0b0</td>\n",
       "      <td>218426c82b6a1cf32d665301f1f24365f14706ff208964...</td>\n",
       "      <td>56</td>\n",
       "      <td>1966-07-16</td>\n",
       "      <td>F</td>\n",
       "      <td>BRANCA</td>\n",
       "      <td>BRASILIA</td>\n",
       "      <td>DF</td>\n",
       "      <td>UNIDADE BASICA DE SAUDE N 1 SAO SEBASTIAO</td>\n",
       "      <td>UBS 1 SAO SEBASTIAO</td>\n",
       "      <td>BRASILIA</td>\n",
       "      <td>DF</td>\n",
       "      <td>Faixa Etária</td>\n",
       "      <td>Faixa Etária</td>\n",
       "      <td>2F3020A</td>\n",
       "      <td>PFIZER</td>\n",
       "      <td>2023-05-25</td>\n",
       "      <td>Reforço</td>\n",
       "      <td>103</td>\n",
       "      <td>COVID-19 PFIZER - COMIRNATY BIVALENTE</td>\n",
       "    </tr>\n",
       "    <tr>\n",
       "      <th>...</th>\n",
       "      <td>...</td>\n",
       "      <td>...</td>\n",
       "      <td>...</td>\n",
       "      <td>...</td>\n",
       "      <td>...</td>\n",
       "      <td>...</td>\n",
       "      <td>...</td>\n",
       "      <td>...</td>\n",
       "      <td>...</td>\n",
       "      <td>...</td>\n",
       "      <td>...</td>\n",
       "      <td>...</td>\n",
       "      <td>...</td>\n",
       "      <td>...</td>\n",
       "      <td>...</td>\n",
       "      <td>...</td>\n",
       "      <td>...</td>\n",
       "      <td>...</td>\n",
       "      <td>...</td>\n",
       "      <td>...</td>\n",
       "    </tr>\n",
       "    <tr>\n",
       "      <th>6730050</th>\n",
       "      <td>38d29d8d-89f0-4726-b584-c8ecc2fcee19-i0b0</td>\n",
       "      <td>0f754234749f5c26c6a9ad6c2ebe76de8e71f0e97718dc...</td>\n",
       "      <td>18</td>\n",
       "      <td>2003-07-26</td>\n",
       "      <td>F</td>\n",
       "      <td>PARDA</td>\n",
       "      <td>BRASILIA</td>\n",
       "      <td>DF</td>\n",
       "      <td>UNIDADE BASICA DE SAUDE N 1 DE BRAZLANDIA</td>\n",
       "      <td>UBS 1 BRAZLANDIA</td>\n",
       "      <td>BRASILIA</td>\n",
       "      <td>DF</td>\n",
       "      <td>Pessoas de 18 a 64 anos</td>\n",
       "      <td>Faixa Etária</td>\n",
       "      <td>FH4751</td>\n",
       "      <td>PFIZER</td>\n",
       "      <td>2021-12-02</td>\n",
       "      <td>2ª Dose</td>\n",
       "      <td>87</td>\n",
       "      <td>COVID-19 PFIZER - COMIRNATY</td>\n",
       "    </tr>\n",
       "    <tr>\n",
       "      <th>6730051</th>\n",
       "      <td>38d5449f-d3bd-4b0f-adb3-f835af5c7b9a-i0b0</td>\n",
       "      <td>24cf485a1edba42b0ea5dd2c505776f36ba66bfd71e8e3...</td>\n",
       "      <td>38</td>\n",
       "      <td>1982-08-09</td>\n",
       "      <td>M</td>\n",
       "      <td>PARDA</td>\n",
       "      <td>BRASILIA</td>\n",
       "      <td>DF</td>\n",
       "      <td>UNIDADE BASICA DE SAUDE N 05 DE SAMAMBAIA</td>\n",
       "      <td>UBS 05 SAMAMBAIA</td>\n",
       "      <td>BRASILIA</td>\n",
       "      <td>DF</td>\n",
       "      <td>Pessoas de 18 a 64 anos</td>\n",
       "      <td>Faixa Etária</td>\n",
       "      <td>216VCD189Z</td>\n",
       "      <td>ASTRAZENECA/FIOCRUZ</td>\n",
       "      <td>2021-07-24</td>\n",
       "      <td>1ª Dose</td>\n",
       "      <td>85</td>\n",
       "      <td>COVID-19 ASTRAZENECA/FIOCRUZ - COVISHIELD</td>\n",
       "    </tr>\n",
       "    <tr>\n",
       "      <th>6730052</th>\n",
       "      <td>38d830e2-0fb9-43f0-818b-a6ffa8e28c9c-i0b0</td>\n",
       "      <td>41acff15e7bdbae7205212a00a270febb8d9d374652f65...</td>\n",
       "      <td>56</td>\n",
       "      <td>1965-10-20</td>\n",
       "      <td>M</td>\n",
       "      <td>SEM INFORMACAO</td>\n",
       "      <td>BRASILIA</td>\n",
       "      <td>DF</td>\n",
       "      <td>UNIDADE BASICA DE SAUDE N 3 DA CEILANDIA</td>\n",
       "      <td>UBS 3 CEILANDIA</td>\n",
       "      <td>BRASILIA</td>\n",
       "      <td>DF</td>\n",
       "      <td>Pessoas de 18 a 64 anos</td>\n",
       "      <td>Faixa Etária</td>\n",
       "      <td>213J21A</td>\n",
       "      <td>JANSSEN</td>\n",
       "      <td>2022-06-22</td>\n",
       "      <td>2º Reforço</td>\n",
       "      <td>88</td>\n",
       "      <td>COVID-19 JANSSEN - Ad26.COV2.S</td>\n",
       "    </tr>\n",
       "    <tr>\n",
       "      <th>6730053</th>\n",
       "      <td>38f54b36-fffa-4507-9f00-a1b6c4f2f5aa-i0b0</td>\n",
       "      <td>7b9582f6ae66a4f9db6a478e35e188e6c45b0f45ea1e47...</td>\n",
       "      <td>27</td>\n",
       "      <td>1995-06-16</td>\n",
       "      <td>M</td>\n",
       "      <td>PARDA</td>\n",
       "      <td>BRASILIA</td>\n",
       "      <td>DF</td>\n",
       "      <td>UNIDADE BASICA DE SAUDE N 1 DO NUCLEO BANDEIRANTE</td>\n",
       "      <td>UBS 01 NUCLEO BANDEIRANTE</td>\n",
       "      <td>BRASILIA</td>\n",
       "      <td>DF</td>\n",
       "      <td>Pessoas de 18 a 64 anos</td>\n",
       "      <td>Faixa Etária</td>\n",
       "      <td>FP7498</td>\n",
       "      <td>PFIZER</td>\n",
       "      <td>2022-08-02</td>\n",
       "      <td>Dose Adicional</td>\n",
       "      <td>87</td>\n",
       "      <td>COVID-19 PFIZER - COMIRNATY</td>\n",
       "    </tr>\n",
       "    <tr>\n",
       "      <th>6730054</th>\n",
       "      <td>38fb1b65-c05f-4ccd-bd8a-0adf1a4c66ce-i0b0</td>\n",
       "      <td>c372608c046f873f12f88f4f2d3aa1bec7a778301a9722...</td>\n",
       "      <td>21</td>\n",
       "      <td>1999-09-28</td>\n",
       "      <td>F</td>\n",
       "      <td>PARDA</td>\n",
       "      <td>BRASILIA</td>\n",
       "      <td>DF</td>\n",
       "      <td>UNIDADE BASICA DE SAUDE N 2 ASA NORTE</td>\n",
       "      <td>UBS 2 ASA NORTE</td>\n",
       "      <td>BRASILIA</td>\n",
       "      <td>DF</td>\n",
       "      <td>Pessoas de 18 a 64 anos</td>\n",
       "      <td>Faixa Etária</td>\n",
       "      <td>FE3591</td>\n",
       "      <td>PFIZER</td>\n",
       "      <td>2021-08-12</td>\n",
       "      <td>1ª Dose</td>\n",
       "      <td>87</td>\n",
       "      <td>COVID-19 PFIZER - COMIRNATY</td>\n",
       "    </tr>\n",
       "  </tbody>\n",
       "</table>\n",
       "<p>6730055 rows × 20 columns</p>\n",
       "</div>"
      ],
      "text/plain": [
       "                                       document_id  \\\n",
       "0        99c8a0bb-07d0-4b85-a7ac-92acc7b75b7f-i0b0   \n",
       "1        aec86458-91a8-4425-9e9b-604cfd5bc2ad-i0b0   \n",
       "2        99d64e63-0704-43b6-beb3-e0a5f0d4f561-i0b0   \n",
       "3        aed1e2e4-c35b-4c11-938c-72c15b8a9535-i0b0   \n",
       "4        aed76799-f9b8-4344-b989-814d94a07484-i0b0   \n",
       "...                                            ...   \n",
       "6730050  38d29d8d-89f0-4726-b584-c8ecc2fcee19-i0b0   \n",
       "6730051  38d5449f-d3bd-4b0f-adb3-f835af5c7b9a-i0b0   \n",
       "6730052  38d830e2-0fb9-43f0-818b-a6ffa8e28c9c-i0b0   \n",
       "6730053  38f54b36-fffa-4507-9f00-a1b6c4f2f5aa-i0b0   \n",
       "6730054  38fb1b65-c05f-4ccd-bd8a-0adf1a4c66ce-i0b0   \n",
       "\n",
       "                                               paciente_id  paciente_idade  \\\n",
       "0        d6cd3e4813ab76a63d15c2fa883e7af74f22aef90bef14...              34   \n",
       "1        cb0a9a99d9a5e181b420538d8275d2d79decb5d669050e...               9   \n",
       "2        e9051eb19563c03b7e939facb43fe09a78989a6bd45325...              63   \n",
       "3        1cf8c94eb76e0e4017c12947d314c04ad068b149d73b3e...              62   \n",
       "4        218426c82b6a1cf32d665301f1f24365f14706ff208964...              56   \n",
       "...                                                    ...             ...   \n",
       "6730050  0f754234749f5c26c6a9ad6c2ebe76de8e71f0e97718dc...              18   \n",
       "6730051  24cf485a1edba42b0ea5dd2c505776f36ba66bfd71e8e3...              38   \n",
       "6730052  41acff15e7bdbae7205212a00a270febb8d9d374652f65...              56   \n",
       "6730053  7b9582f6ae66a4f9db6a478e35e188e6c45b0f45ea1e47...              27   \n",
       "6730054  c372608c046f873f12f88f4f2d3aa1bec7a778301a9722...              21   \n",
       "\n",
       "        paciente_dataNascimento paciente_enumSexoBiologico  \\\n",
       "0                    1986-10-06                          M   \n",
       "1                    2013-01-09                          F   \n",
       "2                    1958-09-25                          F   \n",
       "3                    1959-12-15                          F   \n",
       "4                    1966-07-16                          F   \n",
       "...                         ...                        ...   \n",
       "6730050              2003-07-26                          F   \n",
       "6730051              1982-08-09                          M   \n",
       "6730052              1965-10-20                          M   \n",
       "6730053              1995-06-16                          M   \n",
       "6730054              1999-09-28                          F   \n",
       "\n",
       "        paciente_racaCor_valor paciente_endereco_nmMunicipio  \\\n",
       "0               SEM INFORMACAO                      BRASILIA   \n",
       "1                        PARDA                      BRASILIA   \n",
       "2                        PARDA                      BRASILIA   \n",
       "3                      AMARELA                      BRASILIA   \n",
       "4                       BRANCA                      BRASILIA   \n",
       "...                        ...                           ...   \n",
       "6730050                  PARDA                      BRASILIA   \n",
       "6730051                  PARDA                      BRASILIA   \n",
       "6730052         SEM INFORMACAO                      BRASILIA   \n",
       "6730053                  PARDA                      BRASILIA   \n",
       "6730054                  PARDA                      BRASILIA   \n",
       "\n",
       "        paciente_endereco_uf  \\\n",
       "0                         DF   \n",
       "1                         DF   \n",
       "2                         DF   \n",
       "3                         DF   \n",
       "4                         DF   \n",
       "...                      ...   \n",
       "6730050                   DF   \n",
       "6730051                   DF   \n",
       "6730052                   DF   \n",
       "6730053                   DF   \n",
       "6730054                   DF   \n",
       "\n",
       "                               estabelecimento_razaoSocial  \\\n",
       "0                        UNIDADE BASICA DE SAUDE 5 PARANOA   \n",
       "1                   UNIDADE BASICA DE SAUDE N 5 PLANALTINA   \n",
       "2                 UNIDADE BASICA DE SAUDE N 5 DA CEILANDIA   \n",
       "3                     UNIDADE BASICA DE SAUDE N 1 CRUZEIRO   \n",
       "4                UNIDADE BASICA DE SAUDE N 1 SAO SEBASTIAO   \n",
       "...                                                    ...   \n",
       "6730050          UNIDADE BASICA DE SAUDE N 1 DE BRAZLANDIA   \n",
       "6730051          UNIDADE BASICA DE SAUDE N 05 DE SAMAMBAIA   \n",
       "6730052           UNIDADE BASICA DE SAUDE N 3 DA CEILANDIA   \n",
       "6730053  UNIDADE BASICA DE SAUDE N 1 DO NUCLEO BANDEIRANTE   \n",
       "6730054              UNIDADE BASICA DE SAUDE N 2 ASA NORTE   \n",
       "\n",
       "          estalecimento_noFantasia estabelecimento_municipio_nome  \\\n",
       "0         UBS 5 QUEBRADA DOS NERES                       BRASILIA   \n",
       "1                 UBS 5 PLANALTINA                       BRASILIA   \n",
       "2                  UBS 5 CEILANDIA                       BRASILIA   \n",
       "3                   UBS 1 CRUZEIRO                       BRASILIA   \n",
       "4              UBS 1 SAO SEBASTIAO                       BRASILIA   \n",
       "...                            ...                            ...   \n",
       "6730050           UBS 1 BRAZLANDIA                       BRASILIA   \n",
       "6730051           UBS 05 SAMAMBAIA                       BRASILIA   \n",
       "6730052            UBS 3 CEILANDIA                       BRASILIA   \n",
       "6730053  UBS 01 NUCLEO BANDEIRANTE                       BRASILIA   \n",
       "6730054            UBS 2 ASA NORTE                       BRASILIA   \n",
       "\n",
       "        estabelecimento_uf           vacina_grupoAtendimento_nome  \\\n",
       "0                       DF                          Outros Grupos   \n",
       "1                       DF                 Pessoas de 5 a 11 anos   \n",
       "2                       DF  Profissionais e Auxiliares de limpeza   \n",
       "3                       DF                Pessoas de 18 a 64 anos   \n",
       "4                       DF                           Faixa Etária   \n",
       "...                    ...                                    ...   \n",
       "6730050                 DF                Pessoas de 18 a 64 anos   \n",
       "6730051                 DF                Pessoas de 18 a 64 anos   \n",
       "6730052                 DF                Pessoas de 18 a 64 anos   \n",
       "6730053                 DF                Pessoas de 18 a 64 anos   \n",
       "6730054                 DF                Pessoas de 18 a 64 anos   \n",
       "\n",
       "          vacina_categoria_nome vacina_lote vacina_fabricante_nome  \\\n",
       "0                        Outros  213VCD040W    ASTRAZENECA/FIOCRUZ   \n",
       "1                           NaN  B202106076       SINOVAC/BUTANTAN   \n",
       "2        Trabalhadores de Saúde      FG3528                 PFIZER   \n",
       "3                  Faixa Etária      FP7082                 PFIZER   \n",
       "4                  Faixa Etária     2F3020A                 PFIZER   \n",
       "...                         ...         ...                    ...   \n",
       "6730050            Faixa Etária      FH4751                 PFIZER   \n",
       "6730051            Faixa Etária  216VCD189Z    ASTRAZENECA/FIOCRUZ   \n",
       "6730052            Faixa Etária     213J21A                JANSSEN   \n",
       "6730053            Faixa Etária      FP7498                 PFIZER   \n",
       "6730054            Faixa Etária      FE3591                 PFIZER   \n",
       "\n",
       "        vacina_dataAplicacao vacina_descricao_dose  vacina_codigo  \\\n",
       "0                 2021-05-04               1ª Dose             85   \n",
       "1                 2022-03-14               2ª Dose             86   \n",
       "2                 2021-10-13               Reforço             87   \n",
       "3                 2022-06-15        Dose Adicional             87   \n",
       "4                 2023-05-25               Reforço            103   \n",
       "...                      ...                   ...            ...   \n",
       "6730050           2021-12-02               2ª Dose             87   \n",
       "6730051           2021-07-24               1ª Dose             85   \n",
       "6730052           2022-06-22            2º Reforço             88   \n",
       "6730053           2022-08-02        Dose Adicional             87   \n",
       "6730054           2021-08-12               1ª Dose             87   \n",
       "\n",
       "                                       vacina_nome  \n",
       "0        COVID-19 ASTRAZENECA/FIOCRUZ - COVISHIELD  \n",
       "1            COVID-19 SINOVAC/BUTANTAN - CORONAVAC  \n",
       "2                      COVID-19 PFIZER - COMIRNATY  \n",
       "3                      COVID-19 PFIZER - COMIRNATY  \n",
       "4            COVID-19 PFIZER - COMIRNATY BIVALENTE  \n",
       "...                                            ...  \n",
       "6730050                COVID-19 PFIZER - COMIRNATY  \n",
       "6730051  COVID-19 ASTRAZENECA/FIOCRUZ - COVISHIELD  \n",
       "6730052             COVID-19 JANSSEN - Ad26.COV2.S  \n",
       "6730053                COVID-19 PFIZER - COMIRNATY  \n",
       "6730054                COVID-19 PFIZER - COMIRNATY  \n",
       "\n",
       "[6730055 rows x 20 columns]"
      ]
     },
     "execution_count": 119,
     "metadata": {},
     "output_type": "execute_result"
    }
   ],
   "source": [
    "df = pd.read_csv('Vacinacao_DF.csv') \n",
    "df"
   ]
  },
  {
   "cell_type": "code",
   "execution_count": 4,
   "metadata": {},
   "outputs": [
    {
     "name": "stdout",
     "output_type": "stream",
     "text": [
      "<class 'pandas.core.frame.DataFrame'>\n",
      "RangeIndex: 6730055 entries, 0 to 6730054\n",
      "Data columns (total 20 columns):\n",
      " #   Column                          Dtype \n",
      "---  ------                          ----- \n",
      " 0   document_id                     object\n",
      " 1   paciente_id                     object\n",
      " 2   paciente_idade                  int64 \n",
      " 3   paciente_dataNascimento         object\n",
      " 4   paciente_enumSexoBiologico      object\n",
      " 5   paciente_racaCor_valor          object\n",
      " 6   paciente_endereco_nmMunicipio   object\n",
      " 7   paciente_endereco_uf            object\n",
      " 8   estabelecimento_razaoSocial     object\n",
      " 9   estalecimento_noFantasia        object\n",
      " 10  estabelecimento_municipio_nome  object\n",
      " 11  estabelecimento_uf              object\n",
      " 12  vacina_grupoAtendimento_nome    object\n",
      " 13  vacina_categoria_nome           object\n",
      " 14  vacina_lote                     object\n",
      " 15  vacina_fabricante_nome          object\n",
      " 16  vacina_dataAplicacao            object\n",
      " 17  vacina_descricao_dose           object\n",
      " 18  vacina_codigo                   int64 \n",
      " 19  vacina_nome                     object\n",
      "dtypes: int64(2), object(18)\n",
      "memory usage: 1.0+ GB\n"
     ]
    }
   ],
   "source": [
    "df.info()"
   ]
  },
  {
   "cell_type": "markdown",
   "metadata": {},
   "source": [
    "## Convertendo os tipos das séries"
   ]
  },
  {
   "cell_type": "code",
   "execution_count": 120,
   "metadata": {},
   "outputs": [],
   "source": [
    "colunas_para_converter = ['paciente_enumSexoBiologico', 'paciente_racaCor_valor', 'paciente_endereco_nmMunicipio','paciente_endereco_uf','estabelecimento_razaoSocial','estalecimento_noFantasia','estabelecimento_municipio_nome','estabelecimento_uf', 'vacina_grupoAtendimento_nome','vacina_categoria_nome','vacina_fabricante_nome','vacina_lote','vacina_descricao_dose','vacina_codigo','vacina_nome']\n",
    "df[colunas_para_converter] = df[colunas_para_converter].astype('category')"
   ]
  },
  {
   "cell_type": "code",
   "execution_count": 121,
   "metadata": {},
   "outputs": [],
   "source": [
    "colunas_para_converter = ['paciente_dataNascimento', 'vacina_dataAplicacao']\n",
    "df[colunas_para_converter] = df[colunas_para_converter].apply(pd.to_datetime)"
   ]
  },
  {
   "cell_type": "code",
   "execution_count": 122,
   "metadata": {},
   "outputs": [
    {
     "name": "stdout",
     "output_type": "stream",
     "text": [
      "<class 'pandas.core.frame.DataFrame'>\n",
      "RangeIndex: 6730055 entries, 0 to 6730054\n",
      "Data columns (total 20 columns):\n",
      " #   Column                          Dtype         \n",
      "---  ------                          -----         \n",
      " 0   document_id                     object        \n",
      " 1   paciente_id                     object        \n",
      " 2   paciente_idade                  int64         \n",
      " 3   paciente_dataNascimento         datetime64[ns]\n",
      " 4   paciente_enumSexoBiologico      category      \n",
      " 5   paciente_racaCor_valor          category      \n",
      " 6   paciente_endereco_nmMunicipio   category      \n",
      " 7   paciente_endereco_uf            category      \n",
      " 8   estabelecimento_razaoSocial     category      \n",
      " 9   estalecimento_noFantasia        category      \n",
      " 10  estabelecimento_municipio_nome  category      \n",
      " 11  estabelecimento_uf              category      \n",
      " 12  vacina_grupoAtendimento_nome    category      \n",
      " 13  vacina_categoria_nome           category      \n",
      " 14  vacina_lote                     category      \n",
      " 15  vacina_fabricante_nome          category      \n",
      " 16  vacina_dataAplicacao            datetime64[ns]\n",
      " 17  vacina_descricao_dose           category      \n",
      " 18  vacina_codigo                   category      \n",
      " 19  vacina_nome                     category      \n",
      "dtypes: category(15), datetime64[ns](2), int64(1), object(2)\n",
      "memory usage: 372.3+ MB\n"
     ]
    }
   ],
   "source": [
    "df.info()"
   ]
  },
  {
   "cell_type": "code",
   "execution_count": 123,
   "metadata": {},
   "outputs": [
    {
     "data": {
      "text/plain": [
       "document_id                            0\n",
       "paciente_id                            0\n",
       "paciente_idade                         0\n",
       "paciente_dataNascimento                0\n",
       "paciente_enumSexoBiologico             0\n",
       "paciente_racaCor_valor                 3\n",
       "paciente_endereco_nmMunicipio          0\n",
       "paciente_endereco_uf                   0\n",
       "estabelecimento_razaoSocial            0\n",
       "estalecimento_noFantasia               0\n",
       "estabelecimento_municipio_nome         0\n",
       "estabelecimento_uf                     0\n",
       "vacina_grupoAtendimento_nome       43191\n",
       "vacina_categoria_nome             330867\n",
       "vacina_lote                            0\n",
       "vacina_fabricante_nome                 0\n",
       "vacina_dataAplicacao                   0\n",
       "vacina_descricao_dose                 11\n",
       "vacina_codigo                          0\n",
       "vacina_nome                            0\n",
       "dtype: int64"
      ]
     },
     "execution_count": 123,
     "metadata": {},
     "output_type": "execute_result"
    }
   ],
   "source": [
    " df.isnull().sum()"
   ]
  },
  {
   "cell_type": "markdown",
   "metadata": {},
   "source": [
    "## Variáveis categóricas"
   ]
  },
  {
   "cell_type": "code",
   "execution_count": 124,
   "metadata": {},
   "outputs": [
    {
     "data": {
      "text/plain": [
       "['M', 'F', 'I']\n",
       "Categories (3, object): ['F', 'I', 'M']"
      ]
     },
     "execution_count": 124,
     "metadata": {},
     "output_type": "execute_result"
    }
   ],
   "source": [
    "df['paciente_enumSexoBiologico'].unique()"
   ]
  },
  {
   "cell_type": "code",
   "execution_count": 176,
   "metadata": {},
   "outputs": [],
   "source": [
    "df['paciente_enumSexoBiologico'] = df['paciente_enumSexoBiologico'].apply(lambda x: 'MASCULINO' if x == 'M' else x)\n",
    "df['paciente_enumSexoBiologico'] = df['paciente_enumSexoBiologico'].apply(lambda x: 'FEMININO' if x == 'F' else x)\n",
    "df['paciente_enumSexoBiologico'] = df['paciente_enumSexoBiologico'].apply(lambda x: 'SEM INFORMACAO' if x == 'I' else x)"
   ]
  },
  {
   "cell_type": "code",
   "execution_count": 126,
   "metadata": {},
   "outputs": [
    {
     "data": {
      "text/plain": [
       "['SEM INFORMACAO', 'PARDA', 'AMARELA', 'BRANCA', 'PRETA', 'INDIGENA', NaN]\n",
       "Categories (6, object): ['AMARELA', 'BRANCA', 'INDIGENA', 'PARDA', 'PRETA', 'SEM INFORMACAO']"
      ]
     },
     "execution_count": 126,
     "metadata": {},
     "output_type": "execute_result"
    }
   ],
   "source": [
    "df['paciente_racaCor_valor'].unique()"
   ]
  },
  {
   "cell_type": "code",
   "execution_count": 127,
   "metadata": {},
   "outputs": [],
   "source": [
    "df['paciente_racaCor_valor'].fillna('SEM INFORMACAO', inplace=True)"
   ]
  },
  {
   "cell_type": "code",
   "execution_count": 128,
   "metadata": {},
   "outputs": [
    {
     "name": "stdout",
     "output_type": "stream",
     "text": [
      "Outros Grupos\n",
      "Pessoas de 5 a 11 anos\n",
      "Profissionais e Auxiliares de limpeza\n",
      "Pessoas de 18 a 64 anos\n",
      "Faixa Etária\n",
      "Hipertensão de difícil controle ou com complicações/lesão de órgão alvo\n",
      "Pessoas de 12 a 17 anos\n",
      "Psicólogo\n",
      "Ensino Básico\n",
      "Outros Imunocomprometidos\n",
      "Diabetes Mellitus\n",
      "Pessoas de 70 a 74 anos\n",
      "Outros\n",
      "Pessoas de 80 anos ou mais\n",
      "Médico\n",
      "População Privada de Liberdade\n",
      "Pessoas de 65 a 69 anos\n",
      "nan\n",
      "Coletivo Rodoviário Passageiros Urbano e de Longo Curso\n",
      "Fisioterapeutas\n",
      "Aéreo\n",
      "Pneumopatias Crônicas Graves\n",
      "Pessoas de 75 a 79 anos\n",
      "Obesidade Grave (Imc≥40)\n",
      "Policial Civil\n",
      "Assistente Social\n",
      "Doenças Cardiovasculares e Cerebrovasculares\n",
      "Policial Militar\n",
      "Marinha do Brasil - MB\n",
      "Pessoas de 60 nos ou mais Institucionalizadas\n",
      "Cozinheiro e Auxiliares\n",
      "Gestante\n",
      "Puérpera\n",
      "Cuidador de Idosos\n",
      "Pessoas com Deficiência Permanente\n",
      "Bombeiro Militar\n",
      "Trabalhadores de limpeza urbana e manejo de resíduos sólidos\n",
      "Biólogo\n",
      "Imunocomprometidos\n",
      "Trabalhadores Portuários\n",
      "Profissionais de Educação Física\n",
      "Técnico de Enfermagem\n",
      "Exército Brasileiro - EB\n",
      "Farmacêutico\n",
      "Odontologista\n",
      "Enfermeiro(a)\n",
      "Ensino Superior\n",
      "Fonoaudiólogo\n",
      "Policial Federal\n",
      "Doença cardiovascular\n",
      "Hemoglobinopatia grave\n",
      "Funcionário do Sistema de Privação de Liberdade\n",
      "Acadêmicos/estudantes em estágio em estabelecimentos de saúde\n",
      "Recepcionista\n",
      "Pessoas com Deficiência Institucionalizadas\n",
      "Auxiliar de Enfermagem\n",
      "Biomédico\n",
      "Doença neurológica crônica\n",
      "Pessoas de 3 a 4 anos\n",
      "Trabalhadores Industriais\n",
      "Nutricionista\n",
      "Força Aérea Brasileira - FAB\n",
      "Sem registro no modelo de informação de origem\n",
      "Funcionário do Sistema Funerário que tenham contato com cadáveres potencialmente contaminados\n",
      "Técnico de Odontologia\n",
      "Segurança\n",
      "Policial Rodoviário Federal\n",
      "Neoplasias\n",
      "Pessoas em Situação de Rua\n",
      "Doença Renal Crônica\n",
      "Médico Veterinário\n",
      "Pessoas de 6 meses a 2 anos\n",
      "Síndrome de Down\n",
      "Guarda Municipal\n",
      "Indivíduos Transplantados de Órgão Sólido\n",
      "Terapeuta Ocupacional\n",
      "Cirrose hepática\n",
      "Caminhoneiro\n",
      "Povos indígenas em terras indígenas\n",
      "Agente de Combate a Endemias - ACE\n",
      "Ferroviário\n",
      "Agente Comunitário de Saúde - ACS\n",
      "Aquaviário\n",
      "Motorista de Ambulância\n",
      "Auxiliar de Veterinário\n",
      "Pessoas Institucionalizadas\n",
      "Metroviário\n",
      "Bombeiro Civil\n",
      "Técnico de Veterinário\n",
      "Quilombola\n",
      "Auxiliar em Saúde Bucal - ASB\n",
      "Doula/Parteira\n",
      "Crianças Quilombolas\n",
      "Adolescentes cumprindo medidas Socioeducativas\n",
      "Povos indígenas vivendo fora das terras indígenas\n",
      "Técnico em Saúde Bucal - TSB\n",
      "Povos indígenas vivendo em terras indígenas\n",
      "Crianças Ribeirinhas\n",
      "Ribeirinha\n",
      "Indivíduos Transplantados de Medula Óssea\n",
      "Crianças Indígenas\n"
     ]
    }
   ],
   "source": [
    "ga= df['vacina_grupoAtendimento_nome'].unique()\n",
    "for valor in ga:\n",
    "    print(valor)"
   ]
  },
  {
   "cell_type": "code",
   "execution_count": 129,
   "metadata": {},
   "outputs": [
    {
     "name": "stdout",
     "output_type": "stream",
     "text": [
      "Outros\n",
      "nan\n",
      "Trabalhadores de Saúde\n",
      "Faixa Etária\n",
      "Comorbidades\n",
      "Trabalhadores da Educação\n",
      "População Privada de Liberdade\n",
      "Trabalhadores de Transporte\n",
      "Forças de Segurança e Salvamento\n",
      "Forças Armadas (membros ativos)\n",
      "Pessoas de 60 anos ou mais institucionalizadas\n",
      "Gestantes\n",
      "Puérperas\n",
      "Pessoas com Deficiência\n",
      "Trabalhadores de Limpeza Urbana\n",
      "Trabalhadores Portuários\n",
      "Funcionário do Sistema de Privação de Liberdade\n",
      "Trabalhadores Industriais\n",
      "Pessoas em Situação de Rua\n",
      "Povos Indígenas\n",
      "Pessoas Institucionalizadas\n",
      "Povos e Comunidades Tradicionais\n"
     ]
    }
   ],
   "source": [
    "va = df['vacina_categoria_nome'].unique()\n",
    "for valor in va:\n",
    "    print(valor)"
   ]
  },
  {
   "cell_type": "code",
   "execution_count": 138,
   "metadata": {},
   "outputs": [
    {
     "name": "stdout",
     "output_type": "stream",
     "text": [
      "ASTRAZENECA/FIOCRUZ\n",
      "SINOVAC/BUTANTAN\n",
      "PFIZER\n",
      "JANSSEN\n",
      "ASTRAZENECA\n",
      "SEM INFORMACAO\n",
      "SINOVAC\n",
      "FIOCRUZ\n",
      "BUTANTAN\n"
     ]
    }
   ],
   "source": [
    "fa = df['vacina_fabricante_nome'].unique()\n",
    "for valor in fa:\n",
    "    print(valor)"
   ]
  },
  {
   "cell_type": "markdown",
   "metadata": {},
   "source": [
    "## Padronizando valores"
   ]
  },
  {
   "cell_type": "code",
   "execution_count": 131,
   "metadata": {},
   "outputs": [],
   "source": [
    "df['vacina_fabricante_nome'] = df['vacina_fabricante_nome'].apply(lambda x: 'PFIZER' if x.startswith('PFIZER') else x)"
   ]
  },
  {
   "cell_type": "code",
   "execution_count": 132,
   "metadata": {},
   "outputs": [],
   "source": [
    "df['vacina_fabricante_nome'] = df['vacina_fabricante_nome'].apply(lambda x: 'JANSSEN' if x.startswith('JANSSEN') else x)"
   ]
  },
  {
   "cell_type": "code",
   "execution_count": 133,
   "metadata": {},
   "outputs": [],
   "source": [
    "df['vacina_fabricante_nome'] = df['vacina_fabricante_nome'].apply(lambda x: 'SEM INFORMACAO' if x.startswith('Pendente') else x)"
   ]
  },
  {
   "cell_type": "code",
   "execution_count": 134,
   "metadata": {},
   "outputs": [],
   "source": [
    "df['vacina_fabricante_nome'] = df['vacina_fabricante_nome'].str.replace('FUNDACAO OSWALDO CRUZ', 'FIOCRUZ')"
   ]
  },
  {
   "cell_type": "code",
   "execution_count": 135,
   "metadata": {},
   "outputs": [],
   "source": [
    "df['vacina_fabricante_nome'] = df['vacina_fabricante_nome'].str.replace('INSTITUTO BUTANTAN', 'BUTANTAN')"
   ]
  },
  {
   "cell_type": "code",
   "execution_count": 139,
   "metadata": {},
   "outputs": [
    {
     "name": "stdout",
     "output_type": "stream",
     "text": [
      "1ª Dose\n",
      "2ª Dose\n",
      "Reforço\n",
      "Dose Adicional\n",
      "2º Reforço\n",
      "Única\n",
      "1º Reforço\n",
      "Dose\n",
      "3ª Dose\n",
      "3º Reforço\n",
      "2ª Dose Revacinação\n",
      "3ª Dose Revacinação\n",
      "Revacinação\n",
      "1ª Dose Revacinação\n",
      "4ª Dose Revacinação\n",
      "4ª Dose\n",
      "5ª Dose Revacinação\n",
      "1ª Dose Fracionada\n",
      "2ª Dose Fracionada\n",
      "nan\n",
      "Dose Inicial\n",
      "4ª Dose Fracionada\n"
     ]
    }
   ],
   "source": [
    "doses = df['vacina_descricao_dose'].unique()\n",
    "for valor in doses:\n",
    "    print(valor)"
   ]
  },
  {
   "cell_type": "markdown",
   "metadata": {},
   "source": [
    "*Para efeito desta análise, consideraremos que estas doses são independentes, ou seja, se uma mesma pessoa tomou a 1 Dose e a 1 Dose de reforço. consideraremos que ela tomou duas doses*"
   ]
  },
  {
   "cell_type": "code",
   "execution_count": 141,
   "metadata": {},
   "outputs": [
    {
     "data": {
      "text/plain": [
       "11"
      ]
     },
     "execution_count": 141,
     "metadata": {},
     "output_type": "execute_result"
    }
   ],
   "source": [
    "df_filtrado = df[df['vacina_descricao_dose'].isna()] \n",
    "len(df_filtrado)"
   ]
  },
  {
   "cell_type": "code",
   "execution_count": 146,
   "metadata": {},
   "outputs": [
    {
     "name": "stdout",
     "output_type": "stream",
     "text": [
      "COVID-19 ASTRAZENECA/FIOCRUZ - COVISHIELD\n",
      "COVID-19 SINOVAC/BUTANTAN - CORONAVAC\n",
      "COVID-19 PFIZER - COMIRNATY\n",
      "COVID-19 PFIZER - COMIRNATY BIVALENTE\n",
      "COVID-19 JANSSEN - Ad26.COV2.S\n",
      "COVID-19 ASTRAZENECA - ChAdOx1-S\n",
      "VVBN\n",
      "COVID-19 SINOVAC - CORONAVAC\n"
     ]
    }
   ],
   "source": [
    "vn = df['vacina_nome'].unique()\n",
    "for valor in vn:\n",
    "    print(valor)"
   ]
  },
  {
   "cell_type": "markdown",
   "metadata": {},
   "source": [
    "## Padronização dos Valores"
   ]
  },
  {
   "cell_type": "code",
   "execution_count": 144,
   "metadata": {},
   "outputs": [],
   "source": [
    "df['vacina_nome'] = df['vacina_nome'].str.replace('PFIZER - COMIRNATY PEDIÁTRICA', 'PFIZER - COMIRNATY')\n",
    "df['vacina_nome'] = df['vacina_nome'].str.replace('PFIZER - COMIRNATY MENOR DE 5 ANOS', 'PFIZER - COMIRNATY')"
   ]
  },
  {
   "cell_type": "code",
   "execution_count": 145,
   "metadata": {},
   "outputs": [],
   "source": [
    "df['vacina_nome'] = df['vacina_nome'].str.replace('PEDIÁTRICA - PFIZER COMIRNATY', 'PFIZER - COMIRNATY')"
   ]
  },
  {
   "cell_type": "code",
   "execution_count": 147,
   "metadata": {},
   "outputs": [
    {
     "data": {
      "text/plain": [
       "348"
      ]
     },
     "execution_count": 147,
     "metadata": {},
     "output_type": "execute_result"
    }
   ],
   "source": [
    "df_filtrado = df[df['vacina_nome'] == 'VVBN'] \n",
    "len(df_filtrado)"
   ]
  },
  {
   "cell_type": "markdown",
   "metadata": {},
   "source": [
    "*Não tem informação de fabricante para a VVBN, pelas datas parece ser a bivalente*"
   ]
  },
  {
   "cell_type": "markdown",
   "metadata": {},
   "source": [
    "## Variáveis Numéricas"
   ]
  },
  {
   "cell_type": "code",
   "execution_count": 148,
   "metadata": {},
   "outputs": [
    {
     "data": {
      "text/html": [
       "<div>\n",
       "<style scoped>\n",
       "    .dataframe tbody tr th:only-of-type {\n",
       "        vertical-align: middle;\n",
       "    }\n",
       "\n",
       "    .dataframe tbody tr th {\n",
       "        vertical-align: top;\n",
       "    }\n",
       "\n",
       "    .dataframe thead th {\n",
       "        text-align: right;\n",
       "    }\n",
       "</style>\n",
       "<table border=\"1\" class=\"dataframe\">\n",
       "  <thead>\n",
       "    <tr style=\"text-align: right;\">\n",
       "      <th></th>\n",
       "      <th>paciente_idade</th>\n",
       "      <th>paciente_dataNascimento</th>\n",
       "      <th>vacina_dataAplicacao</th>\n",
       "    </tr>\n",
       "  </thead>\n",
       "  <tbody>\n",
       "    <tr>\n",
       "      <th>count</th>\n",
       "      <td>6.730055e+06</td>\n",
       "      <td>6730055</td>\n",
       "      <td>6730055</td>\n",
       "    </tr>\n",
       "    <tr>\n",
       "      <th>mean</th>\n",
       "      <td>4.121596e+01</td>\n",
       "      <td>1980-04-12 07:11:13.058095232</td>\n",
       "      <td>2021-12-28 13:18:41.079513600</td>\n",
       "    </tr>\n",
       "    <tr>\n",
       "      <th>min</th>\n",
       "      <td>0.000000e+00</td>\n",
       "      <td>1899-12-30 00:00:00</td>\n",
       "      <td>2011-05-21 00:00:00</td>\n",
       "    </tr>\n",
       "    <tr>\n",
       "      <th>25%</th>\n",
       "      <td>2.500000e+01</td>\n",
       "      <td>1965-10-24 00:00:00</td>\n",
       "      <td>2021-08-03 00:00:00</td>\n",
       "    </tr>\n",
       "    <tr>\n",
       "      <th>50%</th>\n",
       "      <td>4.100000e+01</td>\n",
       "      <td>1980-05-05 00:00:00</td>\n",
       "      <td>2021-10-27 00:00:00</td>\n",
       "    </tr>\n",
       "    <tr>\n",
       "      <th>75%</th>\n",
       "      <td>5.600000e+01</td>\n",
       "      <td>1996-01-01 00:00:00</td>\n",
       "      <td>2022-04-20 00:00:00</td>\n",
       "    </tr>\n",
       "    <tr>\n",
       "      <th>max</th>\n",
       "      <td>1.210000e+02</td>\n",
       "      <td>2023-06-30 00:00:00</td>\n",
       "      <td>2023-09-30 00:00:00</td>\n",
       "    </tr>\n",
       "    <tr>\n",
       "      <th>std</th>\n",
       "      <td>1.983429e+01</td>\n",
       "      <td>NaN</td>\n",
       "      <td>NaN</td>\n",
       "    </tr>\n",
       "  </tbody>\n",
       "</table>\n",
       "</div>"
      ],
      "text/plain": [
       "       paciente_idade        paciente_dataNascimento  \\\n",
       "count    6.730055e+06                        6730055   \n",
       "mean     4.121596e+01  1980-04-12 07:11:13.058095232   \n",
       "min      0.000000e+00            1899-12-30 00:00:00   \n",
       "25%      2.500000e+01            1965-10-24 00:00:00   \n",
       "50%      4.100000e+01            1980-05-05 00:00:00   \n",
       "75%      5.600000e+01            1996-01-01 00:00:00   \n",
       "max      1.210000e+02            2023-06-30 00:00:00   \n",
       "std      1.983429e+01                            NaN   \n",
       "\n",
       "                vacina_dataAplicacao  \n",
       "count                        6730055  \n",
       "mean   2021-12-28 13:18:41.079513600  \n",
       "min              2011-05-21 00:00:00  \n",
       "25%              2021-08-03 00:00:00  \n",
       "50%              2021-10-27 00:00:00  \n",
       "75%              2022-04-20 00:00:00  \n",
       "max              2023-09-30 00:00:00  \n",
       "std                              NaN  "
      ]
     },
     "execution_count": 148,
     "metadata": {},
     "output_type": "execute_result"
    }
   ],
   "source": [
    "df.describe()"
   ]
  },
  {
   "cell_type": "markdown",
   "metadata": {},
   "source": [
    "*Nota-se um erro nas datas de aplicação das vacinas. As vacinas começaram a ser administradas dia 17/01/2021, portanto datas anteriores a esta são erros de entrada de dados. Há 831 registros com datas anteriores a esta*"
   ]
  },
  {
   "cell_type": "code",
   "execution_count": 160,
   "metadata": {},
   "outputs": [
    {
     "data": {
      "text/plain": [
       "831"
      ]
     },
     "execution_count": 160,
     "metadata": {},
     "output_type": "execute_result"
    }
   ],
   "source": [
    "df_filtrado = df[df['vacina_dataAplicacao'] < '2021-01-17 00:00:00'] \n",
    "len(df_filtrado)"
   ]
  },
  {
   "cell_type": "markdown",
   "metadata": {},
   "source": [
    "## Base pacientes Únicos"
   ]
  },
  {
   "cell_type": "code",
   "execution_count": 179,
   "metadata": {},
   "outputs": [],
   "source": [
    "df_pacientes_unicos = df.drop_duplicates(subset='paciente_id')"
   ]
  },
  {
   "cell_type": "code",
   "execution_count": 180,
   "metadata": {},
   "outputs": [
    {
     "data": {
      "text/plain": [
       "2420481"
      ]
     },
     "execution_count": 180,
     "metadata": {},
     "output_type": "execute_result"
    }
   ],
   "source": [
    "len(df_pacientes_unicos)"
   ]
  },
  {
   "cell_type": "markdown",
   "metadata": {},
   "source": [
    "https://cidades.ibge.gov.br/brasil/df/panorama\n",
    "\n",
    "População no último censo [2022]\t\n",
    "2.817.068 pessoas  "
   ]
  },
  {
   "cell_type": "code",
   "execution_count": 181,
   "metadata": {},
   "outputs": [],
   "source": [
    "populacao_DF = 2_817_068"
   ]
  },
  {
   "cell_type": "markdown",
   "metadata": {},
   "source": [
    "## % População que tomou pelo menos uma dose da vacina"
   ]
  },
  {
   "cell_type": "code",
   "execution_count": 182,
   "metadata": {},
   "outputs": [
    {
     "data": {
      "text/plain": [
       "85.9219940732705"
      ]
     },
     "execution_count": 182,
     "metadata": {},
     "output_type": "execute_result"
    }
   ],
   "source": [
    "perc_DF = len(df_pacientes_unicos)/populacao_DF*100\n",
    "perc_DF"
   ]
  },
  {
   "cell_type": "markdown",
   "metadata": {},
   "source": [
    "## Distribuição das idades das pessoas que tomaram a Vacina"
   ]
  },
  {
   "cell_type": "code",
   "execution_count": 183,
   "metadata": {},
   "outputs": [
    {
     "data": {
      "image/png": "[encoded data removed]",
      "text/plain": [
       "<Figure size 640x480 with 1 Axes>"
      ]
     },
     "metadata": {},
     "output_type": "display_data"
    }
   ],
   "source": [
    "sns.histplot(data=df_pacientes_unicos,x=\"paciente_idade\",bins=10,kde=True)\n",
    "plt.xlabel(\"Idade\")\n",
    "plt.ylabel(\"Qtde Pessoas\")\n",
    "plt.show()"
   ]
  },
  {
   "cell_type": "code",
   "execution_count": 166,
   "metadata": {},
   "outputs": [
    {
     "name": "stdout",
     "output_type": "stream",
     "text": [
      "Média: 37.46708526115264\n",
      "Desvio Padrão: 19.73455641816208\n",
      "Máximo: 121\n",
      "Mínimo: 0\n",
      "Primeiro Quartil (Q1): 22.0\n",
      "Segundo Quartil (Q2, Mediana): 37.0\n",
      "Terceiro Quartil (Q3): 51.0\n"
     ]
    }
   ],
   "source": [
    "# Calcular a média\n",
    "media = np.mean(df_pacientes_unicos['paciente_idade'])\n",
    "\n",
    "# Calcular o desvio padrão\n",
    "desvio_padrao = np.std(df_pacientes_unicos['paciente_idade'])\n",
    "\n",
    "# Encontrar o valor máximo\n",
    "maximo = np.max(df_pacientes_unicos['paciente_idade'])\n",
    "\n",
    "# Encontrar o valor mínimo\n",
    "minimo = np.min(df_pacientes_unicos['paciente_idade'])\n",
    "\n",
    "# Calcular quartis (25%, 50% e 75%)\n",
    "quartil_25 = np.percentile(df_pacientes_unicos['paciente_idade'], 25)\n",
    "quartil_50 = np.percentile(df_pacientes_unicos['paciente_idade'], 50)\n",
    "quartil_75 = np.percentile(df_pacientes_unicos['paciente_idade'], 75)\n",
    "\n",
    "print(\"Média:\", media)\n",
    "print(\"Desvio Padrão:\", desvio_padrao)\n",
    "print(\"Máximo:\", maximo)\n",
    "print(\"Mínimo:\", minimo)\n",
    "print(\"Primeiro Quartil (Q1):\", quartil_25)\n",
    "print(\"Segundo Quartil (Q2, Mediana):\", quartil_50)\n",
    "print(\"Terceiro Quartil (Q3):\", quartil_75)"
   ]
  },
  {
   "cell_type": "markdown",
   "metadata": {},
   "source": [
    "## Distribuição por raça"
   ]
  },
  {
   "cell_type": "code",
   "execution_count": 184,
   "metadata": {},
   "outputs": [
    {
     "data": {
      "image/png": "[encoded data removed]",
      "text/plain": [
       "<Figure size 800x600 with 1 Axes>"
      ]
     },
     "metadata": {},
     "output_type": "display_data"
    }
   ],
   "source": [
    "import matplotlib.pyplot as plt\n",
    "\n",
    "\n",
    "# Crie o gráfico de barras por raça\n",
    "plt.figure(figsize=(8, 6))\n",
    "sns.countplot(data=df_pacientes_unicos, x='paciente_racaCor_valor')\n",
    "plt.xlabel('Raça')\n",
    "plt.ylabel('Número de Pacientes Únicos')\n",
    "plt.title('Número de Pacientes Únicos por Raça')\n",
    "plt.show()"
   ]
  },
  {
   "cell_type": "markdown",
   "metadata": {},
   "source": [
    "## Distribuição por sexo"
   ]
  },
  {
   "cell_type": "code",
   "execution_count": 185,
   "metadata": {},
   "outputs": [
    {
     "data": {
      "image/png": "[encoded data removed]",
      "text/plain": [
       "<Figure size 800x600 with 1 Axes>"
      ]
     },
     "metadata": {},
     "output_type": "display_data"
    }
   ],
   "source": [
    "# Crie o gráfico de barras por sexo\n",
    "plt.figure(figsize=(8, 6))\n",
    "sns.countplot(data=df_pacientes_unicos, x='paciente_enumSexoBiologico')\n",
    "plt.xlabel('Sexo')\n",
    "plt.ylabel('Número de Pacientes Únicos')\n",
    "plt.title('Número de Pacientes Únicos por Sexo')\n",
    "plt.show()"
   ]
  },
  {
   "cell_type": "code",
   "execution_count": 187,
   "metadata": {},
   "outputs": [
    {
     "data": {
      "text/plain": [
       "paciente_enumSexoBiologico\n",
       "FEMININO          53.750763\n",
       "MASCULINO         46.248948\n",
       "SEM INFORMACAO     0.000289\n",
       "Name: proportion, dtype: float64"
      ]
     },
     "execution_count": 187,
     "metadata": {},
     "output_type": "execute_result"
    }
   ],
   "source": [
    "df_pacientes_unicos['paciente_enumSexoBiologico'].value_counts(normalize=True)*100"
   ]
  },
  {
   "cell_type": "markdown",
   "metadata": {},
   "source": [
    "## Dsitribuição da quantidade de doses tomadas"
   ]
  },
  {
   "cell_type": "code",
   "execution_count": 188,
   "metadata": {},
   "outputs": [
    {
     "data": {
      "text/html": [
       "<div>\n",
       "<style scoped>\n",
       "    .dataframe tbody tr th:only-of-type {\n",
       "        vertical-align: middle;\n",
       "    }\n",
       "\n",
       "    .dataframe tbody tr th {\n",
       "        vertical-align: top;\n",
       "    }\n",
       "\n",
       "    .dataframe thead th {\n",
       "        text-align: right;\n",
       "    }\n",
       "</style>\n",
       "<table border=\"1\" class=\"dataframe\">\n",
       "  <thead>\n",
       "    <tr style=\"text-align: right;\">\n",
       "      <th></th>\n",
       "      <th>paciente_id</th>\n",
       "      <th>Doses Tomadas</th>\n",
       "    </tr>\n",
       "  </thead>\n",
       "  <tbody>\n",
       "    <tr>\n",
       "      <th>0</th>\n",
       "      <td>000000df7dcf201f5a699353d174cfb9566c36cac86921...</td>\n",
       "      <td>3</td>\n",
       "    </tr>\n",
       "    <tr>\n",
       "      <th>1</th>\n",
       "      <td>00000440ee90f504ad935667cdc4afb6e10c6a20598065...</td>\n",
       "      <td>2</td>\n",
       "    </tr>\n",
       "    <tr>\n",
       "      <th>2</th>\n",
       "      <td>00000d434a680b259368c48d37e77aabb4dfd81d2584bf...</td>\n",
       "      <td>4</td>\n",
       "    </tr>\n",
       "    <tr>\n",
       "      <th>3</th>\n",
       "      <td>0000209157ce6473bdfa88ab4f19ed0906f27c6d5639fd...</td>\n",
       "      <td>1</td>\n",
       "    </tr>\n",
       "    <tr>\n",
       "      <th>4</th>\n",
       "      <td>00002dab7b3212f3098733c8859f0d6a26c54623161972...</td>\n",
       "      <td>3</td>\n",
       "    </tr>\n",
       "    <tr>\n",
       "      <th>...</th>\n",
       "      <td>...</td>\n",
       "      <td>...</td>\n",
       "    </tr>\n",
       "    <tr>\n",
       "      <th>2420476</th>\n",
       "      <td>ffffd9d897c4da418549532a3529c3d73b4001bd49e4ad...</td>\n",
       "      <td>4</td>\n",
       "    </tr>\n",
       "    <tr>\n",
       "      <th>2420477</th>\n",
       "      <td>ffffe3b97ef41041302dcb4e9a532c167a93ebc538e138...</td>\n",
       "      <td>2</td>\n",
       "    </tr>\n",
       "    <tr>\n",
       "      <th>2420478</th>\n",
       "      <td>ffffe5683cafd48a064ec36c54ff60ef29b493e3cda732...</td>\n",
       "      <td>1</td>\n",
       "    </tr>\n",
       "    <tr>\n",
       "      <th>2420479</th>\n",
       "      <td>ffffe841c9392477381d2dd4ffaff57ec70c55a766f326...</td>\n",
       "      <td>1</td>\n",
       "    </tr>\n",
       "    <tr>\n",
       "      <th>2420480</th>\n",
       "      <td>fffff43491ba56442cf8acfa975c2091ef232ccd5b571b...</td>\n",
       "      <td>5</td>\n",
       "    </tr>\n",
       "  </tbody>\n",
       "</table>\n",
       "<p>2420481 rows × 2 columns</p>\n",
       "</div>"
      ],
      "text/plain": [
       "                                               paciente_id  Doses Tomadas\n",
       "0        000000df7dcf201f5a699353d174cfb9566c36cac86921...              3\n",
       "1        00000440ee90f504ad935667cdc4afb6e10c6a20598065...              2\n",
       "2        00000d434a680b259368c48d37e77aabb4dfd81d2584bf...              4\n",
       "3        0000209157ce6473bdfa88ab4f19ed0906f27c6d5639fd...              1\n",
       "4        00002dab7b3212f3098733c8859f0d6a26c54623161972...              3\n",
       "...                                                    ...            ...\n",
       "2420476  ffffd9d897c4da418549532a3529c3d73b4001bd49e4ad...              4\n",
       "2420477  ffffe3b97ef41041302dcb4e9a532c167a93ebc538e138...              2\n",
       "2420478  ffffe5683cafd48a064ec36c54ff60ef29b493e3cda732...              1\n",
       "2420479  ffffe841c9392477381d2dd4ffaff57ec70c55a766f326...              1\n",
       "2420480  fffff43491ba56442cf8acfa975c2091ef232ccd5b571b...              5\n",
       "\n",
       "[2420481 rows x 2 columns]"
      ]
     },
     "execution_count": 188,
     "metadata": {},
     "output_type": "execute_result"
    }
   ],
   "source": [
    "contagem_doses = df.groupby('paciente_id')['vacina_descricao_dose'].count().reset_index()\n",
    "contagem_doses.rename(columns={'vacina_descricao_dose': 'Doses Tomadas'}, inplace=True)\n",
    "contagem_doses"
   ]
  },
  {
   "cell_type": "code",
   "execution_count": 189,
   "metadata": {},
   "outputs": [
    {
     "data": {
      "image/png": "[encoded data removed]",
      "text/plain": [
       "<Figure size 800x600 with 1 Axes>"
      ]
     },
     "metadata": {},
     "output_type": "display_data"
    }
   ],
   "source": [
    "plt.figure(figsize=(8, 6))\n",
    "sns.countplot(data=contagem_doses, x='Doses Tomadas')\n",
    "plt.xlabel('Doses Tomadas')\n",
    "plt.ylabel('Número de pacientes')\n",
    "plt.title('Total de doses tomadas por Paciente')\n",
    "plt.show()"
   ]
  },
  {
   "cell_type": "code",
   "execution_count": 193,
   "metadata": {},
   "outputs": [
    {
     "data": {
      "text/plain": [
       "Doses Tomadas\n",
       "2    798645\n",
       "3    654369\n",
       "4    376651\n",
       "1    323899\n",
       "5    262695\n",
       "6      3941\n",
       "7       230\n",
       "8        46\n",
       "9         5\n",
       "Name: count, dtype: int64"
      ]
     },
     "execution_count": 193,
     "metadata": {},
     "output_type": "execute_result"
    }
   ],
   "source": [
    "contagem_doses['Doses Tomadas'].value_counts()"
   ]
  },
  {
   "cell_type": "markdown",
   "metadata": {},
   "source": [
    "## Distribuição das idades dos pacientes para os diferentes tipos de vacinas"
   ]
  },
  {
   "cell_type": "code",
   "execution_count": 196,
   "metadata": {},
   "outputs": [
    {
     "data": {
      "image/png": "[encoded data removed]",
      "text/plain": [
       "<Figure size 800x600 with 1 Axes>"
      ]
     },
     "metadata": {},
     "output_type": "display_data"
    }
   ],
   "source": [
    "plt.figure(figsize=(8, 6))\n",
    "sns.boxplot(x='vacina_nome', y='paciente_idade', data=df, palette='Set2')\n",
    "plt.title('Box Plot da Idade por Vacina')\n",
    "plt.xlabel('Vacina')\n",
    "plt.ylabel('Idade')\n",
    "plt.xticks(rotation=45, ha='right')\n",
    "plt.show()"
   ]
  },
  {
   "cell_type": "markdown",
   "metadata": {},
   "source": [
    "*Esse gráfico é útil para visualizar a distribuição das idades dos pacientes para diferentes tipos de vacinas e identificar qualquer variação nas idades entre as vacinas. Ele também ajuda a identificar a presença de outliers, que são valores incomuns que podem indicar situações atípicas*"
   ]
  }
 ],
 "metadata": {
  "kernelspec": {
   "display_name": "Python 3",
   "language": "python",
   "name": "python3"
  },
  "language_info": {
   "codemirror_mode": {
    "name": "ipython",
    "version": 3
   },
   "file_extension": ".py",
   "mimetype": "text/x-python",
   "name": "python",
   "nbconvert_exporter": "python",
   "pygments_lexer": "ipython3",
   "version": "3.11.4"
  },
  "orig_nbformat": 4
 },
 "nbformat": 4,
 "nbformat_minor": 2
}
